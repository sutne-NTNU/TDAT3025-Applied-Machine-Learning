{
 "cells": [
  {
   "cell_type": "markdown",
   "metadata": {},
   "source": [
    "# Assignment 6 - Dimension reduction\n",
    "For this exercise you can use either Python with sklearn or Weka.\n",
    "\n",
    "- Using the UCI mushroom dataset from the last exercise, perform a feature selection using a classifier evaluator. Which features are most discriminitave?\n",
    "- Use principal components analysis to construct a reduced space. Which combination of features explain the most variance in the dataset?\n",
    "- Do you see any overlap between the PCA features and those obtained from feature selection?"
   ]
  },
  {
   "cell_type": "markdown",
   "metadata": {},
   "source": [
    "\n",
    "## Feature selection using a classifier evaluator\n",
    "First we need to get the data:"
   ]
  },
  {
   "cell_type": "code",
   "execution_count": 52,
   "metadata": {},
   "outputs": [],
   "source": [
    "from sklearn.feature_selection import SelectKBest\n",
    "from sklearn.feature_selection import chi2\n",
    "import numpy as np\n",
    "import matplotlib.pyplot as plt\n",
    "import pandas as pd\n",
    "df = pd.read_csv(\"../Data/mushroom.data\")"
   ]
  },
  {
   "cell_type": "markdown",
   "metadata": {},
   "source": [
    "Now, we ewant to figure out which features are the best predicotr of wether the muhsrooms is edible or poisonous. To do that we first drop the edibility from the features we want to investigate, and instead use the edibility feature to compare the other features to."
   ]
  },
  {
   "cell_type": "code",
   "execution_count": 53,
   "metadata": {},
   "outputs": [
    {
     "name": "stdout",
     "output_type": "stream",
     "text": [
      "(8124, 2)\n",
      "(8124, 117)\n"
     ]
    }
   ],
   "source": [
    "compare_to = 'edibility' # Feature we want to compare to, y\n",
    "edibility = pd.get_dummies(df[compare_to]) \n",
    "print(edibility.shape)\n",
    "mushrooms = pd.get_dummies(df.drop([compare_to], axis=1) ) # Feautres we want to examine, X\n",
    "print(mushrooms.shape)"
   ]
  },
  {
   "cell_type": "code",
   "execution_count": 54,
   "metadata": {},
   "outputs": [
    {
     "name": "stdout",
     "output_type": "stream",
     "text": [
      "(8124, 5)\n"
     ]
    }
   ],
   "source": [
    "nr_of_best_attributes = 5\n",
    "skb = SelectKBest(chi2, k=nr_of_best_attributes)\n",
    "skb.fit(mushrooms, edibility)\n",
    "mushrooms_new = skb.transform(mushrooms)\n",
    "print(mushrooms_new.shape)"
   ]
  },
  {
   "cell_type": "markdown",
   "metadata": {},
   "source": [
    "Get the names of the attributes that are the best predictors"
   ]
  },
  {
   "cell_type": "code",
   "execution_count": 55,
   "metadata": {},
   "outputs": [
    {
     "data": {
      "text/plain": [
       "array(['odor_f', 'odor_n', 'gill-color_b', 'stalk-surface-above-ring_k',\n",
       "       'stalk-surface-below-ring_k'], dtype=object)"
      ]
     },
     "execution_count": 55,
     "metadata": {},
     "output_type": "execute_result"
    }
   ],
   "source": [
    "np.array(mushrooms.columns)[skb.get_support(indices=True)]"
   ]
  },
  {
   "cell_type": "markdown",
   "metadata": {},
   "source": [
    "We get the result that the top 5 predicting features of a mushrooms edibility are:\n",
    "- 1. If it's odor is foul (odor_f)\n",
    "- 2. If it has no odor (odor_n)\n",
    "- 3. If the gill color is buff (norsk = mattgul) (gill-color_b)\n",
    "- 4. If the stalk surface above ring is silky (stalk-surface-above-ring_k)\n",
    "- 5. If the stalk surface below ring is silky (stalk-surface-below-ring_k)"
   ]
  },
  {
   "cell_type": "markdown",
   "metadata": {},
   "source": [
    "\n",
    "## Principal Components Analysis to construct a reduced space."
   ]
  },
  {
   "cell_type": "code",
   "execution_count": 56,
   "metadata": {},
   "outputs": [
    {
     "name": "stdout",
     "output_type": "stream",
     "text": [
      "PC-1    0.235773\n",
      "PC-2   -0.097539\n",
      "Name: stalk-surface-above-ring_k, dtype: float64\n",
      "PC-1    0.151946\n",
      "PC-2    0.242008\n",
      "Name: stalk-root_?, dtype: float64\n"
     ]
    }
   ],
   "source": [
    "from sklearn import decomposition\n",
    "from sklearn.decomposition import PCA\n",
    "from sklearn import preprocessing\n",
    "\n",
    "#Scaling data\n",
    "data_scaled = pd.DataFrame(preprocessing.scale(mushrooms), columns = mushrooms.columns) \n",
    "\n",
    "pca = PCA(n_components=2)\n",
    "pca.fit_transform(data_scaled)\n",
    "\n",
    "new_dataframe = pd.DataFrame(pca.components_,columns = data_scaled.columns, index = ['PC-1','PC-2'])\n",
    "new_dataframe = new_dataframe.T\n",
    "\n",
    "# Print results\n",
    "print(new_dataframe.iloc[new_dataframe['PC-1'].argmax(),:])\n",
    "print(new_dataframe.iloc[new_dataframe['PC-2'].argmax(),:])"
   ]
  }
 ],
 "metadata": {
  "kernelspec": {
   "display_name": "Python 3",
   "language": "python",
   "name": "python3"
  },
  "language_info": {
   "codemirror_mode": {
    "name": "ipython",
    "version": 3
   },
   "file_extension": ".py",
   "mimetype": "text/x-python",
   "name": "python",
   "nbconvert_exporter": "python",
   "pygments_lexer": "ipython3",
   "version": "3.8.3"
  }
 },
 "nbformat": 4,
 "nbformat_minor": 4
}
