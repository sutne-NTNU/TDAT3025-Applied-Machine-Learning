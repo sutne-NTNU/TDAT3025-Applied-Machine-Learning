{
 "cells": [
  {
   "cell_type": "markdown",
   "metadata": {},
   "source": [
    "# Unsupervised Learning\n",
    "\n",
    "- Using the UCI Mushroom dataset, use k-means and a suitable cluster evaluation metric to determine the optimal number of clusters in the dataset. Note that this may not necessarily be two (edible versus not-edible).\n",
    "- Plot this metric while increasing the number of clusters, e.g.,  𝑘=2..30  (see [here](http://scikit-learn.org/stable/auto_examples/cluster/plot_adjusted_for_chance_measures.html#sphx-glr-auto-examples-cluster-plot-adjusted-for-chance-measures-py) for an example).\n",
    "- Visualise the data using the number of clusters and a suitable projection or low-dimensional embedding.\n",
    "\n",
    "Lets first import everything we need"
   ]
  },
  {
   "cell_type": "code",
   "execution_count": 39,
   "metadata": {},
   "outputs": [],
   "source": [
    "from sklearn.feature_selection import SelectKBest\n",
    "from sklearn.feature_selection import chi2\n",
    "from sklearn.metrics import pairwise_distances\n",
    "from sklearn.cluster import KMeans\n",
    "from sklearn import decomposition\n",
    "from sklearn import metrics\n",
    "\n",
    "import matplotlib.pyplot as plt\n",
    "import pandas as pd\n",
    "import numpy as np\n",
    "import math\n",
    "\n",
    "df = pd.read_csv(\"../Data/mushroom.data\")"
   ]
  },
  {
   "cell_type": "markdown",
   "metadata": {},
   "source": [
    "Theh lets split the data into X and y"
   ]
  },
  {
   "cell_type": "code",
   "execution_count": 40,
   "metadata": {},
   "outputs": [],
   "source": [
    "X, y = df.drop('edibility', axis='columns'), df['edibility']\n",
    "X, y = pd.get_dummies(X), pd.get_dummies(y)"
   ]
  },
  {
   "cell_type": "markdown",
   "metadata": {},
   "source": [
    "Using PCA"
   ]
  },
  {
   "cell_type": "code",
   "execution_count": 41,
   "metadata": {},
   "outputs": [],
   "source": [
    "pca = decomposition.PCA(n_components=3)\n",
    "pca.fit(X)\n",
    "Xpca = pca.transform(X)"
   ]
  },
  {
   "cell_type": "markdown",
   "metadata": {},
   "source": [
    "### Using Silhouette score:\n",
    "\n",
    "Simple measure for a hard clustering like k-means. A higher SC means better clusters.\n",
    "\n",
    "Composed of two scores:\n",
    "* a - Mean distance between a sample and all other points in the same class\n",
    "* b - Mean distance between a sample and all other points in the *next nearest* cluster\n",
    "\n",
    "$sc = \\frac{b - a}{max(a, b)}$"
   ]
  },
  {
   "cell_type": "code",
   "execution_count": null,
   "metadata": {},
   "outputs": [],
   "source": [
    "min_k, max_k = 2, 33\n",
    "row, col = 8, 4\n",
    "\n",
    "fig, axs = plt.subplots(row, col,figsize=(16, 16))\n",
    "sc = []\n",
    "\n",
    "for n in range((1+max_k-min_k)):\n",
    "    k = min_k + n\n",
    " \n",
    "    kmeans = KMeans(n_clusters=k)\n",
    "    kmeans.fit(Xpca)\n",
    "    y_kmeans = kmeans.predict(Xpca)\n",
    "    labels = kmeans.labels_\n",
    "    centers = kmeans.cluster_centers_\n",
    "    sc.append(metrics.silhouette_score(Xpca, labels, metric='euclidean'))\n",
    "    \n",
    "    # Adding subplots to figure\n",
    "    subfigure = axs[math.floor(n/col), n%col]\n",
    "    subfigure.scatter(Xpca[:, 0], Xpca[:, 1], c=y.index, s=15, cmap='plasma')\n",
    "    subfigure.scatter(centers[:, 0], centers[:, 1], c='black', s=70, alpha=0.6);\n",
    "    subfigure.set_title(\"k=%d, sc=%f\"%(k,sc[-1]))\n",
    "    subfigure.axis('off')"
   ]
  },
  {
   "cell_type": "markdown",
   "metadata": {},
   "source": [
    "Finally lets compare the Silhouette score based on k value, and then find the value of k that gives the best value"
   ]
  },
  {
   "cell_type": "code",
   "execution_count": null,
   "metadata": {},
   "outputs": [],
   "source": [
    "fig=plt.figure(figsize=(18,6))\n",
    "ax = plt.axes()\n",
    "ax.set(ylim=(0, 1))\n",
    "plt.plot(range(min_k, max_k+1), sc)\n",
    "plt.xticks(range(0, max_k+1))\n",
    "ax.set_xlabel(\"k\")\n",
    "ax.set_ylabel(\"Silhouette score\")\n",
    "plt.show()\n",
    "print(\"The optimal value fo k is: k=%d, where sc=%f\"%(sc.index(max(sc))+2, max(sc)))"
   ]
  }
 ],
 "metadata": {
  "kernelspec": {
   "display_name": "Python 3",
   "language": "python",
   "name": "python3"
  },
  "language_info": {
   "codemirror_mode": {
    "name": "ipython",
    "version": 3
   },
   "file_extension": ".py",
   "mimetype": "text/x-python",
   "name": "python",
   "nbconvert_exporter": "python",
   "pygments_lexer": "ipython3",
   "version": "3.8.3"
  }
 },
 "nbformat": 4,
 "nbformat_minor": 4
}
